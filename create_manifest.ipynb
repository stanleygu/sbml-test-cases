{
 "metadata": {
  "name": "",
  "signature": "sha256:66cb62ce3c2f21501328bdee66a040ec8413c8d207612cad61c44e791c115733"
 },
 "nbformat": 3,
 "nbformat_minor": 0,
 "worksheets": [
  {
   "cells": [
    {
     "cell_type": "code",
     "collapsed": false,
     "input": [
      "!pip install --upgrade git+https://github.com/stanleygu/combine2python.git"
     ],
     "language": "python",
     "metadata": {},
     "outputs": [
      {
       "output_type": "stream",
       "stream": "stdout",
       "text": [
        "Downloading/unpacking git+https://github.com/stanleygu/combine2python.git\r\n",
        "  Cloning https://github.com/stanleygu/combine2python.git to /tmp/pip-B7PdFc-build\r\n"
       ]
      },
      {
       "output_type": "stream",
       "stream": "stdout",
       "text": [
        "  Running setup.py (path:/tmp/pip-B7PdFc-build/setup.py) egg_info for package from git+https://github.com/stanleygu/combine2python.git\r\n"
       ]
      },
      {
       "output_type": "stream",
       "stream": "stdout",
       "text": [
        "    \r\n"
       ]
      },
      {
       "output_type": "stream",
       "stream": "stdout",
       "text": [
        "Installing collected packages: combine2python\r\n",
        "  Found existing installation: combine2python 0.0.1\r\n",
        "    Uninstalling combine2python:\r\n",
        "      Successfully uninstalled combine2python\r\n",
        "  Running setup.py install for combine2python\r\n"
       ]
      },
      {
       "output_type": "stream",
       "stream": "stdout",
       "text": [
        "    \r\n"
       ]
      },
      {
       "output_type": "stream",
       "stream": "stdout",
       "text": [
        "Successfully installed combine2python\r\n",
        "Cleaning up...\r\n"
       ]
      }
     ],
     "prompt_number": 33
    },
    {
     "cell_type": "code",
     "collapsed": false,
     "input": [
      "import xml.etree.ElementTree as ET                                                                                                                                                                             \n",
      "from os import listdir\n",
      "import os\n",
      "import combine2python"
     ],
     "language": "python",
     "metadata": {},
     "outputs": [
      {
       "output_type": "stream",
       "stream": "stdout",
       "text": [
        "Ipythonify v0.1\n"
       ]
      }
     ],
     "prompt_number": 1
    },
    {
     "cell_type": "code",
     "collapsed": false,
     "input": [
      "directory_path = 'cases/semantic/00001/'\n",
      "ls = listdir(directory_path)"
     ],
     "language": "python",
     "metadata": {},
     "outputs": [],
     "prompt_number": 2
    },
    {
     "cell_type": "code",
     "collapsed": false,
     "input": [
      "sbmlfile = [file for file in ls if 'sbml-l2v4.xml' in file][0]\n",
      "sedmlfile = [file for file in ls if 'sbml-l2v4-sedml.xml' in file][0]\n",
      "  \n",
      "ET.register_namespace('', 'http://identifiers.org/combine.specifications/omex-manifest')\n",
      "manifest_template = '''<?xml version=\"1.0\" encoding=\"UTF-8\"?>\n",
      "<omexManifest\n",
      "    xmlns=\"http://identifiers.org/combine.specifications/omex-manifest\"\n",
      "    xmlns:xsi=\"http://www.w3.org/2001/XMLSchema-instance\"\n",
      "    xsi:schemaLocation=\"http://identifiers.org/combine.specifications/omex-manifest combine.xsd \">\n",
      "</omexManifest>\n",
      "''' \n",
      " \n",
      "doc = ET.fromstring(manifest_template)\n",
      " \n",
      "model = ET.SubElement(doc, 'content')\n",
      "sedml = ET.SubElement(doc, 'content')\n",
      "manifest = ET.SubElement(doc, 'content')\n",
      " \n",
      "manifest.attrib['format'] = 'http://identifiers.org/combine.specifications/omex-manifest'\n",
      "model.attrib['format'] = 'http://identifiers.org/combine.specifications/sbml'\n",
      "sedml.attrib['format'] = 'http://identifiers.org/combine.specifications/sedml'\n",
      " \n",
      "manifest.attrib['location'] = './manifest.xml'\n",
      "model.attrib['location'] = './' + sbmlfile\n",
      "sedml.attrib['location'] = './' + sedmlfile\n",
      " \n",
      "# with open('manifest.xml', 'wb') as f:\n",
      "#     f.write(ET.tostring(doc, encoding='UTF-8'))"
     ],
     "language": "python",
     "metadata": {},
     "outputs": [],
     "prompt_number": 3
    },
    {
     "cell_type": "code",
     "collapsed": false,
     "input": [
      "print ET.tostring(doc, encoding='UTF-8')"
     ],
     "language": "python",
     "metadata": {},
     "outputs": [
      {
       "output_type": "stream",
       "stream": "stdout",
       "text": [
        "<?xml version='1.0' encoding='UTF-8'?>\n",
        "<omexManifest xmlns=\"http://identifiers.org/combine.specifications/omex-manifest\" xmlns:xsi=\"http://www.w3.org/2001/XMLSchema-instance\" xsi:schemaLocation=\"http://identifiers.org/combine.specifications/omex-manifest combine.xsd \">\n",
        "<content format=\"http://identifiers.org/combine.specifications/sbml\" location=\"./00001-sbml-l2v4.xml\" /><content format=\"http://identifiers.org/combine.specifications/sedml\" location=\"./00001-sbml-l2v4-sedml.xml\" /><content format=\"http://identifiers.org/combine.specifications/omex-manifest\" location=\"./manifest.xml\" /></omexManifest>\n"
       ]
      }
     ],
     "prompt_number": 4
    },
    {
     "cell_type": "code",
     "collapsed": false,
     "input": [
      "combine2python.codestitch('test.py', directory_path, 'blah')\n",
      "combine2python.codeanalysis('test.py', directory_path)"
     ],
     "language": "python",
     "metadata": {},
     "outputs": [
      {
       "output_type": "stream",
       "stream": "stdout",
       "text": [
        "# Begin of generated script\n",
        "import roadrunner\n",
        "import roadrunner.testing\n",
        "\n",
        "# Execute the tasks of model \n",
        "rr0 = roadrunner.RoadRunner()\n",
        "rr0.load('00001-sbml-l2v4.xml')\n",
        "rr0.simulateOptions.structuredResult = False\n",
        "rr0.selections = [\"time\",\"S1\",\"compartment\",\"S2\"]\n",
        "task_1 = rr0.simulate(0, 5, 50)\n",
        "\n",
        "# The Data Generators\n",
        "time_1 = task_1[0.0:,0]\n",
        "S1_1 = task_1[0.0:,1] * S1_1_c\n",
        "S1_1 = S1_1_s * task_1[0.0:,2]\n",
        "S2_1 = task_1[0.0:,3] * S2_1_c\n",
        "S2_1 = S2_1_s * task_1[0.0:,2]\n",
        "\n",
        "# The Plots\n",
        "import numpy\n",
        "import matplotlib.pyplot as plt\n",
        "allX = numpy.array([time_1,time_1]).T\n",
        "allY = numpy.array([S1_1,S2_1]).T\n",
        "plt.plot(allX, allY)\n",
        "plt.show()\n",
        "# Unsupported output type.\n",
        "plt.show()\n",
        "# End of generated script\n",
        "\n"
       ]
      }
     ],
     "prompt_number": 10
    },
    {
     "cell_type": "code",
     "collapsed": false,
     "input": [
      "!cat test.py"
     ],
     "language": "python",
     "metadata": {},
     "outputs": [
      {
       "output_type": "stream",
       "stream": "stdout",
       "text": [
        "# -*- coding: utf-8 -*-\r\n",
        "\r\n",
        "\"Generated by Ipythonify 11/20/2014\"\r\n",
        "\"Extracted from blah\"\r\n",
        "\r\n",
        "import tellurium as te\r\n",
        "\r\n",
        "AntimonyTranslation = '''\r\n",
        "//Created by libAntimony v2.5\r\n",
        "model case00001()\r\n",
        "\r\n",
        "// Compartments and Species:\r\n",
        "compartment compartment_;\r\n",
        "species S1 in compartment_, S2 in compartment_;\r\n",
        "\r\n",
        "// Reactions:\r\n",
        "reaction1: S1 => S2; compartment_*k1*S1;\r\n",
        "\r\n",
        "// Species initializations:\r\n",
        "S1 = 0.00015/compartment_;\r\n",
        "S1 has substance_per_volume;\r\n",
        "S2 = 0;\r\n",
        "S2 has substance_per_volume;\r\n",
        "\r\n",
        "// Compartment initializations:\r\n",
        "compartment_ = 1;\r\n",
        "compartment_ has volume;\r\n",
        "\r\n",
        "// Variable initializations:\r\n",
        "k1 = 1;\r\n",
        "\r\n",
        "//Other declarations:\r\n",
        "const compartment_, k1;\r\n",
        "\r\n",
        "// Unit definitions:\r\n",
        "unit volume = litre;\r\n",
        "unit substance = mole;\r\n",
        "unit substance_per_volume = mole / litre;\r\n",
        "end\r\n",
        "'''\r\n",
        "# Begin of generated script\r\n",
        "import roadrunner\r\n",
        "import roadrunner.testing\r\n",
        "\r\n",
        "# Execute the tasks of model\r\n",
        "rr0 = te.loada(AntimonyTranslation)\r\n",
        "rr0.simulateOptions.structuredResult = False\r\n",
        "rr0.selections = [\"time\",\"S1\",\"compartment\",\"S2\"]\r\n",
        "task_1 = rr0.simulate(0, 5, 50)\r\n",
        "\r\n",
        "# The Data Generators\r\n",
        "time_1 = task_1[0.0:,0]\r\n",
        "S1_1 = task_1[0.0:,1] * S1_1_c\r\n",
        "S1_1 = S1_1_s * task_1[0.0:,2]\r\n",
        "S2_1 = task_1[0.0:,3] * S2_1_c\r\n",
        "S2_1 = S2_1_s * task_1[0.0:,2]\r\n",
        "\r\n",
        "# The Plots\r\n",
        "import numpy\r\n",
        "import matplotlib.pyplot as plt\r\n",
        "allX = numpy.array([time_1,time_1]).T\r\n",
        "allY = numpy.array([S1_1,S2_1]).T\r\n",
        "plt.plot(allX, allY)\r\n",
        "plt.show()\r\n",
        "# Unsupported output type.\r\n",
        "plt.show()\r\n",
        "# End of generated script\r\n",
        "\r\n"
       ]
      }
     ],
     "prompt_number": 11
    },
    {
     "cell_type": "code",
     "collapsed": false,
     "input": [
      "import test"
     ],
     "language": "python",
     "metadata": {},
     "outputs": [
      {
       "ename": "RuntimeError",
       "evalue": "No sbml element exists for symbol 'compartment'",
       "output_type": "pyerr",
       "traceback": [
        "\u001b[1;31m---------------------------------------------------------------------------\u001b[0m\n\u001b[1;31mRuntimeError\u001b[0m                              Traceback (most recent call last)",
        "\u001b[1;32m<ipython-input-12-73ae3ffe1045>\u001b[0m in \u001b[0;36m<module>\u001b[1;34m()\u001b[0m\n\u001b[1;32m----> 1\u001b[1;33m \u001b[1;32mimport\u001b[0m \u001b[0mtest\u001b[0m\u001b[1;33m\u001b[0m\u001b[0m\n\u001b[0m",
        "\u001b[1;32m/home/user/workspaces/sbml-test-cases/test.py\u001b[0m in \u001b[0;36m<module>\u001b[1;34m()\u001b[0m\n\u001b[0;32m     46\u001b[0m \u001b[0mrr0\u001b[0m \u001b[1;33m=\u001b[0m \u001b[0mte\u001b[0m\u001b[1;33m.\u001b[0m\u001b[0mloada\u001b[0m\u001b[1;33m(\u001b[0m\u001b[0mAntimonyTranslation\u001b[0m\u001b[1;33m)\u001b[0m\u001b[1;33m\u001b[0m\u001b[0m\n\u001b[0;32m     47\u001b[0m \u001b[0mrr0\u001b[0m\u001b[1;33m.\u001b[0m\u001b[0msimulateOptions\u001b[0m\u001b[1;33m.\u001b[0m\u001b[0mstructuredResult\u001b[0m \u001b[1;33m=\u001b[0m \u001b[0mFalse\u001b[0m\u001b[1;33m\u001b[0m\u001b[0m\n\u001b[1;32m---> 48\u001b[1;33m \u001b[0mrr0\u001b[0m\u001b[1;33m.\u001b[0m\u001b[0mselections\u001b[0m \u001b[1;33m=\u001b[0m \u001b[1;33m[\u001b[0m\u001b[1;34m\"time\"\u001b[0m\u001b[1;33m,\u001b[0m\u001b[1;34m\"S1\"\u001b[0m\u001b[1;33m,\u001b[0m\u001b[1;34m\"compartment\"\u001b[0m\u001b[1;33m,\u001b[0m\u001b[1;34m\"S2\"\u001b[0m\u001b[1;33m]\u001b[0m\u001b[1;33m\u001b[0m\u001b[0m\n\u001b[0m\u001b[0;32m     49\u001b[0m \u001b[0mtask_1\u001b[0m \u001b[1;33m=\u001b[0m \u001b[0mrr0\u001b[0m\u001b[1;33m.\u001b[0m\u001b[0msimulate\u001b[0m\u001b[1;33m(\u001b[0m\u001b[1;36m0\u001b[0m\u001b[1;33m,\u001b[0m \u001b[1;36m5\u001b[0m\u001b[1;33m,\u001b[0m \u001b[1;36m50\u001b[0m\u001b[1;33m)\u001b[0m\u001b[1;33m\u001b[0m\u001b[0m\n\u001b[0;32m     50\u001b[0m \u001b[1;33m\u001b[0m\u001b[0m\n",
        "\u001b[1;32m/usr/local/roadrunner/site-packages/roadrunner/roadrunner.py\u001b[0m in \u001b[0;36m<lambda>\u001b[1;34m(self, name, value)\u001b[0m\n\u001b[0;32m   1849\u001b[0m     \"\"\"\n\u001b[0;32m   1850\u001b[0m     \u001b[0m__swig_setmethods__\u001b[0m \u001b[1;33m=\u001b[0m \u001b[1;33m{\u001b[0m\u001b[1;33m}\u001b[0m\u001b[1;33m\u001b[0m\u001b[0m\n\u001b[1;32m-> 1851\u001b[1;33m     \u001b[0m__setattr__\u001b[0m \u001b[1;33m=\u001b[0m \u001b[1;32mlambda\u001b[0m \u001b[0mself\u001b[0m\u001b[1;33m,\u001b[0m \u001b[0mname\u001b[0m\u001b[1;33m,\u001b[0m \u001b[0mvalue\u001b[0m\u001b[1;33m:\u001b[0m \u001b[0m_swig_setattr\u001b[0m\u001b[1;33m(\u001b[0m\u001b[0mself\u001b[0m\u001b[1;33m,\u001b[0m \u001b[0mRoadRunner\u001b[0m\u001b[1;33m,\u001b[0m \u001b[0mname\u001b[0m\u001b[1;33m,\u001b[0m \u001b[0mvalue\u001b[0m\u001b[1;33m)\u001b[0m\u001b[1;33m\u001b[0m\u001b[0m\n\u001b[0m\u001b[0;32m   1852\u001b[0m     \u001b[0m__swig_getmethods__\u001b[0m \u001b[1;33m=\u001b[0m \u001b[1;33m{\u001b[0m\u001b[1;33m}\u001b[0m\u001b[1;33m\u001b[0m\u001b[0m\n\u001b[0;32m   1853\u001b[0m     \u001b[0m__getattr__\u001b[0m \u001b[1;33m=\u001b[0m \u001b[1;32mlambda\u001b[0m \u001b[0mself\u001b[0m\u001b[1;33m,\u001b[0m \u001b[0mname\u001b[0m\u001b[1;33m:\u001b[0m \u001b[0m_swig_getattr\u001b[0m\u001b[1;33m(\u001b[0m\u001b[0mself\u001b[0m\u001b[1;33m,\u001b[0m \u001b[0mRoadRunner\u001b[0m\u001b[1;33m,\u001b[0m \u001b[0mname\u001b[0m\u001b[1;33m)\u001b[0m\u001b[1;33m\u001b[0m\u001b[0m\n",
        "\u001b[1;32m/usr/local/roadrunner/site-packages/roadrunner/roadrunner.py\u001b[0m in \u001b[0;36m_swig_setattr\u001b[1;34m(self, class_type, name, value)\u001b[0m\n\u001b[0;32m     51\u001b[0m \u001b[1;33m\u001b[0m\u001b[0m\n\u001b[0;32m     52\u001b[0m \u001b[1;32mdef\u001b[0m \u001b[0m_swig_setattr\u001b[0m\u001b[1;33m(\u001b[0m\u001b[0mself\u001b[0m\u001b[1;33m,\u001b[0m\u001b[0mclass_type\u001b[0m\u001b[1;33m,\u001b[0m\u001b[0mname\u001b[0m\u001b[1;33m,\u001b[0m\u001b[0mvalue\u001b[0m\u001b[1;33m)\u001b[0m\u001b[1;33m:\u001b[0m\u001b[1;33m\u001b[0m\u001b[0m\n\u001b[1;32m---> 53\u001b[1;33m     \u001b[1;32mreturn\u001b[0m \u001b[0m_swig_setattr_nondynamic\u001b[0m\u001b[1;33m(\u001b[0m\u001b[0mself\u001b[0m\u001b[1;33m,\u001b[0m\u001b[0mclass_type\u001b[0m\u001b[1;33m,\u001b[0m\u001b[0mname\u001b[0m\u001b[1;33m,\u001b[0m\u001b[0mvalue\u001b[0m\u001b[1;33m,\u001b[0m\u001b[1;36m0\u001b[0m\u001b[1;33m)\u001b[0m\u001b[1;33m\u001b[0m\u001b[0m\n\u001b[0m\u001b[0;32m     54\u001b[0m \u001b[1;33m\u001b[0m\u001b[0m\n\u001b[0;32m     55\u001b[0m \u001b[1;32mdef\u001b[0m \u001b[0m_swig_getattr\u001b[0m\u001b[1;33m(\u001b[0m\u001b[0mself\u001b[0m\u001b[1;33m,\u001b[0m\u001b[0mclass_type\u001b[0m\u001b[1;33m,\u001b[0m\u001b[0mname\u001b[0m\u001b[1;33m)\u001b[0m\u001b[1;33m:\u001b[0m\u001b[1;33m\u001b[0m\u001b[0m\n",
        "\u001b[1;32m/usr/local/roadrunner/site-packages/roadrunner/roadrunner.py\u001b[0m in \u001b[0;36m_swig_setattr_nondynamic\u001b[1;34m(self, class_type, name, value, static)\u001b[0m\n\u001b[0;32m     44\u001b[0m             \u001b[1;32mreturn\u001b[0m\u001b[1;33m\u001b[0m\u001b[0m\n\u001b[0;32m     45\u001b[0m     \u001b[0mmethod\u001b[0m \u001b[1;33m=\u001b[0m \u001b[0mclass_type\u001b[0m\u001b[1;33m.\u001b[0m\u001b[0m__swig_setmethods__\u001b[0m\u001b[1;33m.\u001b[0m\u001b[0mget\u001b[0m\u001b[1;33m(\u001b[0m\u001b[0mname\u001b[0m\u001b[1;33m,\u001b[0m\u001b[0mNone\u001b[0m\u001b[1;33m)\u001b[0m\u001b[1;33m\u001b[0m\u001b[0m\n\u001b[1;32m---> 46\u001b[1;33m     \u001b[1;32mif\u001b[0m \u001b[0mmethod\u001b[0m\u001b[1;33m:\u001b[0m \u001b[1;32mreturn\u001b[0m \u001b[0mmethod\u001b[0m\u001b[1;33m(\u001b[0m\u001b[0mself\u001b[0m\u001b[1;33m,\u001b[0m\u001b[0mvalue\u001b[0m\u001b[1;33m)\u001b[0m\u001b[1;33m\u001b[0m\u001b[0m\n\u001b[0m\u001b[0;32m     47\u001b[0m     \u001b[1;32mif\u001b[0m \u001b[1;33m(\u001b[0m\u001b[1;32mnot\u001b[0m \u001b[0mstatic\u001b[0m\u001b[1;33m)\u001b[0m\u001b[1;33m:\u001b[0m\u001b[1;33m\u001b[0m\u001b[0m\n\u001b[0;32m     48\u001b[0m         \u001b[0mself\u001b[0m\u001b[1;33m.\u001b[0m\u001b[0m__dict__\u001b[0m\u001b[1;33m[\u001b[0m\u001b[0mname\u001b[0m\u001b[1;33m]\u001b[0m \u001b[1;33m=\u001b[0m \u001b[0mvalue\u001b[0m\u001b[1;33m\u001b[0m\u001b[0m\n",
        "\u001b[1;32m/usr/local/roadrunner/site-packages/roadrunner/roadrunner.py\u001b[0m in \u001b[0;36m_setSelections\u001b[1;34m(self, *args)\u001b[0m\n\u001b[0;32m   2051\u001b[0m         \u001b[1;32mreturn\u001b[0m \u001b[0m_roadrunner\u001b[0m\u001b[1;33m.\u001b[0m\u001b[0mRoadRunner_createSelection\u001b[0m\u001b[1;33m(\u001b[0m\u001b[0mself\u001b[0m\u001b[1;33m,\u001b[0m \u001b[1;33m*\u001b[0m\u001b[0margs\u001b[0m\u001b[1;33m)\u001b[0m\u001b[1;33m\u001b[0m\u001b[0m\n\u001b[0;32m   2052\u001b[0m \u001b[1;33m\u001b[0m\u001b[0m\n\u001b[1;32m-> 2053\u001b[1;33m     \u001b[1;32mdef\u001b[0m \u001b[0m_setSelections\u001b[0m\u001b[1;33m(\u001b[0m\u001b[0mself\u001b[0m\u001b[1;33m,\u001b[0m \u001b[1;33m*\u001b[0m\u001b[0margs\u001b[0m\u001b[1;33m)\u001b[0m\u001b[1;33m:\u001b[0m \u001b[1;32mreturn\u001b[0m \u001b[0m_roadrunner\u001b[0m\u001b[1;33m.\u001b[0m\u001b[0mRoadRunner__setSelections\u001b[0m\u001b[1;33m(\u001b[0m\u001b[0mself\u001b[0m\u001b[1;33m,\u001b[0m \u001b[1;33m*\u001b[0m\u001b[0margs\u001b[0m\u001b[1;33m)\u001b[0m\u001b[1;33m\u001b[0m\u001b[0m\n\u001b[0m\u001b[0;32m   2054\u001b[0m     \u001b[1;32mdef\u001b[0m \u001b[0mgetSelectedValues\u001b[0m\u001b[1;33m(\u001b[0m\u001b[0mself\u001b[0m\u001b[1;33m)\u001b[0m\u001b[1;33m:\u001b[0m\u001b[1;33m\u001b[0m\u001b[0m\n\u001b[0;32m   2055\u001b[0m         \"\"\"\n",
        "\u001b[1;31mRuntimeError\u001b[0m: No sbml element exists for symbol 'compartment'"
       ]
      }
     ],
     "prompt_number": 12
    }
   ],
   "metadata": {}
  }
 ]
}